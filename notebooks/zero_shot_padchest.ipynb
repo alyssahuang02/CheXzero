{
 "cells": [
  {
   "cell_type": "code",
   "execution_count": 19,
   "metadata": {},
   "outputs": [
    {
     "name": "stdout",
     "output_type": "stream",
     "text": [
      "The autoreload extension is already loaded. To reload it, use:\n",
      "  %reload_ext autoreload\n"
     ]
    }
   ],
   "source": [
    "import os\n",
    "import numpy as np\n",
    "import pandas as pd\n",
    "from pathlib import Path\n",
    "from typing import List, Tuple, Optional\n",
    "\n",
    "import sys\n",
    "sys.path.append('../')\n",
    "\n",
    "from eval import evaluate, bootstrap\n",
    "from zero_shot import make, make_true_labels, run_softmax_eval\n",
    "\n",
    "%load_ext autoreload\n",
    "%autoreload 2"
   ]
  },
  {
   "cell_type": "code",
   "execution_count": 28,
   "metadata": {},
   "outputs": [
    {
     "name": "stdout",
     "output_type": "stream",
     "text": [
      "['../checkpoints/sample_model/best_64_0.0001_original_16000_0.861.pt']\n"
     ]
    }
   ],
   "source": [
    "## Define Zero Shot Labels and Templates\n",
    "\n",
    "# ----- DIRECTORIES ------ #\n",
    "cxr_filepath: str = '../data_padchest/padchest.h5' # filepath of chest x-ray images (.h5)\n",
    "cxr_true_labels_path: Optional[str] = '../data_padchest/groundtruth.csv' # (optional for evaluation) if labels are provided, provide path\n",
    "model_dir: str = '../checkpoints/sample_model' # where pretrained models are saved (.pt) \n",
    "predictions_dir: Path = Path('../predictions') # where to save predictions\n",
    "# cache_dir: str = predictions_dir / \"cached\" # where to cache ensembled predictions\n",
    "\n",
    "context_length: int = 77\n",
    "\n",
    "# ------- LABELS ------  #\n",
    "# Define labels to query each image | will return a prediction for each label\n",
    "cxr_labels: List[str] = ['ImageID', 'ImageDir', 'StudyDate_DICOM', 'StudyID', 'PatientID',\n",
    "       'PatientBirth', 'PatientSex_DICOM', 'ViewPosition_DICOM', 'Projection',\n",
    "       'MethodProjection', 'Pediatric', 'Modality_DICOM', 'Manufacturer_DICOM',\n",
    "       'PhotometricInterpretation_DICOM', 'PixelRepresentation_DICOM',\n",
    "       'PixelAspectRatio_DICOM', 'SpatialResolution_DICOM', 'BitsStored_DICOM',\n",
    "       'WindowCenter_DICOM', 'WindowWidth_DICOM', 'Rows_DICOM',\n",
    "       'Columns_DICOM', 'XRayTubeCurrent_DICOM', 'Exposure_DICOM',\n",
    "       'ExposureInuAs_DICOM', 'ExposureTime', 'RelativeXRayExposure_DICOM',\n",
    "       'ReportID', 'Report', 'MethodLabel', 'Labels', 'Localizations',\n",
    "       'LabelsLocalizationsBySentence', 'labelCUIS', 'LocalizationsCUIS']\n",
    "\n",
    "# ---- TEMPLATES ----- # \n",
    "# Define set of templates | see Figure 1 for more details                        \n",
    "cxr_pair_template: Tuple[str] = (\"{}\", \"no {}\")\n",
    "\n",
    "# ----- MODEL PATHS ------ #\n",
    "# If using ensemble, collect all model paths\n",
    "model_paths = []\n",
    "for subdir, dirs, files in os.walk(model_dir):\n",
    "    for file in files:\n",
    "        full_dir = os.path.join(subdir, file)\n",
    "        model_paths.append(full_dir)\n",
    "        \n",
    "print(model_paths)"
   ]
  },
  {
   "cell_type": "code",
   "execution_count": 29,
   "metadata": {},
   "outputs": [],
   "source": [
    "## Run the model on the data set using ensembled models\n",
    "def ensemble_models(\n",
    "    model_paths: List[str], \n",
    "    cxr_filepath: str, \n",
    "    cxr_labels: List[str], \n",
    "    cxr_pair_template: Tuple[str], \n",
    "    cache_dir: str = None, \n",
    "    save_name: str = None,\n",
    ") -> Tuple[List[np.ndarray], np.ndarray]: \n",
    "    \"\"\"\n",
    "    Given a list of `model_paths`, ensemble model and return\n",
    "    predictions. Caches predictions at `cache_dir` if location provided.\n",
    "\n",
    "    Returns a list of each model's predictions and the averaged\n",
    "    set of predictions.\n",
    "    \"\"\"\n",
    "\n",
    "    predictions = []\n",
    "    model_paths = sorted(model_paths) # ensure consistency of \n",
    "    path = model_paths[0]\n",
    "    model_name = Path(path).stem\n",
    "\n",
    "    # load in model and `torch.DataLoader`\n",
    "    model, loader = make(\n",
    "        model_path=path, \n",
    "        cxr_filepath=cxr_filepath, \n",
    "    ) \n",
    "    \n",
    "    # path to the cached prediction\n",
    "    if cache_dir is not None:\n",
    "        if save_name is not None: \n",
    "            cache_path = Path(cache_dir) / f\"{save_name}_{model_name}.npy\"\n",
    "        else: \n",
    "            cache_path = Path(cache_dir) / f\"{model_name}.npy\"\n",
    "\n",
    "    # if prediction already cached, don't recompute prediction\n",
    "    if cache_dir is not None and os.path.exists(cache_path): \n",
    "        print(\"Loading cached prediction for {}\".format(model_name))\n",
    "        y_pred = np.load(cache_path)\n",
    "    else: # cached prediction not found, compute preds\n",
    "        print(\"Inferring model {}\".format(path))\n",
    "        y_pred = run_softmax_eval(model, loader, cxr_labels, cxr_pair_template)\n",
    "        if cache_dir is not None: \n",
    "            Path(cache_dir).mkdir(exist_ok=True, parents=True)\n",
    "            np.save(file=cache_path, arr=y_pred)\n",
    "    predictions.append(y_pred)\n",
    "    \n",
    "    # compute average predictions\n",
    "    y_pred_avg = np.mean(predictions, axis=0)\n",
    "    \n",
    "    return predictions, y_pred_avg"
   ]
  },
  {
   "cell_type": "code",
   "execution_count": 30,
   "metadata": {},
   "outputs": [
    {
     "name": "stdout",
     "output_type": "stream",
     "text": [
      "Inferring model ../checkpoints/sample_model/best_64_0.0001_original_16000_0.861.pt\n"
     ]
    },
    {
     "name": "stderr",
     "output_type": "stream",
     "text": [
      "100%|██████████| 35/35 [00:05<00:00,  6.84it/s]\n",
      "100%|██████████| 137/137 [00:30<00:00,  4.49it/s]\n",
      "100%|██████████| 35/35 [00:05<00:00,  6.82it/s]\n",
      "100%|██████████| 137/137 [00:30<00:00,  4.49it/s]\n"
     ]
    }
   ],
   "source": [
    "predictions, y_pred_avg = ensemble_models(\n",
    "    model_paths=model_paths, \n",
    "    cxr_filepath=cxr_filepath, \n",
    "    cxr_labels=cxr_labels, \n",
    "    cxr_pair_template=cxr_pair_template, \n",
    ")"
   ]
  },
  {
   "cell_type": "code",
   "execution_count": 33,
   "metadata": {},
   "outputs": [
    {
     "name": "stdout",
     "output_type": "stream",
     "text": [
      "(137, 35)\n",
      "[[0.4973931  0.49869898 0.4940695  ... 0.4977452  0.49521396 0.4964329 ]\n",
      " [0.49503478 0.49806723 0.49632862 ... 0.49879998 0.49670997 0.4982326 ]\n",
      " [0.4974887  0.49925068 0.4928193  ... 0.49716708 0.49543622 0.49562556]\n",
      " ...\n",
      " [0.49731663 0.49919915 0.49148542 ... 0.49771944 0.49660465 0.49806395]\n",
      " [0.49884188 0.49894333 0.49120635 ... 0.49745607 0.4958816  0.49686214]\n",
      " [0.49982184 0.49753514 0.4892039  ... 0.49646258 0.49799892 0.49466464]]\n"
     ]
    }
   ],
   "source": [
    "# make test_true\n",
    "test_pred = y_pred_avg\n",
    "\n",
    "print(test_pred.shape)\n",
    "print(test_pred)"
   ]
  }
 ],
 "metadata": {
  "kernelspec": {
   "display_name": "Python 3.9.13 64-bit ('new')",
   "language": "python",
   "name": "python3"
  },
  "language_info": {
   "codemirror_mode": {
    "name": "ipython",
    "version": 3
   },
   "file_extension": ".py",
   "mimetype": "text/x-python",
   "name": "python",
   "nbconvert_exporter": "python",
   "pygments_lexer": "ipython3",
   "version": "3.9.13"
  },
  "orig_nbformat": 4,
  "vscode": {
   "interpreter": {
    "hash": "64b9008e3ac84f59fe598096ba753170ef56d87c6b7c898b3dc8f256c225a33d"
   }
  }
 },
 "nbformat": 4,
 "nbformat_minor": 2
}
